{
 "cells": [
  {
   "cell_type": "code",
   "execution_count": 1,
   "id": "bf8ea1b1",
   "metadata": {
    "scrolled": true
   },
   "outputs": [
    {
     "ename": "KeyboardInterrupt",
     "evalue": "",
     "output_type": "error",
     "traceback": [
      "\u001b[1;31m---------------------------------------------------------------------------\u001b[0m",
      "\u001b[1;31mKeyboardInterrupt\u001b[0m                         Traceback (most recent call last)",
      "\u001b[1;32m<ipython-input-1-b37f74e606a6>\u001b[0m in \u001b[0;36m<module>\u001b[1;34m\u001b[0m\n\u001b[0;32m     27\u001b[0m \u001b[1;33m\u001b[0m\u001b[0m\n\u001b[0;32m     28\u001b[0m \u001b[0murl\u001b[0m \u001b[1;33m=\u001b[0m \u001b[1;34mf'https://openapi.naver.com/v1/search/shop?&query={keyword}'\u001b[0m\u001b[1;33m\u001b[0m\u001b[1;33m\u001b[0m\u001b[0m\n\u001b[1;32m---> 29\u001b[1;33m \u001b[0mtime\u001b[0m\u001b[1;33m.\u001b[0m\u001b[0msleep\u001b[0m\u001b[1;33m(\u001b[0m\u001b[1;36m5.5\u001b[0m\u001b[1;33m)\u001b[0m\u001b[1;33m\u001b[0m\u001b[1;33m\u001b[0m\u001b[0m\n\u001b[0m\u001b[0;32m     30\u001b[0m \u001b[0mtext\u001b[0m \u001b[1;33m=\u001b[0m \u001b[0mrequests\u001b[0m\u001b[1;33m.\u001b[0m\u001b[0mget\u001b[0m\u001b[1;33m(\u001b[0m\u001b[0murl\u001b[0m\u001b[1;33m,\u001b[0m \u001b[0mheaders\u001b[0m\u001b[1;33m=\u001b[0m\u001b[0mheaders\u001b[0m\u001b[1;33m)\u001b[0m\u001b[1;33m\u001b[0m\u001b[1;33m\u001b[0m\u001b[0m\n\u001b[0;32m     31\u001b[0m \u001b[1;31m# driver = webdriver.Chrome()\u001b[0m\u001b[1;33m\u001b[0m\u001b[1;33m\u001b[0m\u001b[1;33m\u001b[0m\u001b[0m\n",
      "\u001b[1;31mKeyboardInterrupt\u001b[0m: "
     ]
    }
   ],
   "source": [
    "import requests\n",
    "import time\n",
    "import numpy as np\n",
    "import pandas as pd\n",
    "from bs4 import BeautifulSoup\n",
    "from selenium import webdriver\n",
    "import re\n",
    "import time\n",
    "from selenium.webdriver.common.by import By\n",
    "\n",
    "keyword = '세탁기'\n",
    "keys = []\n",
    "page_no = 1\n",
    "columns = ['title', 'link', 'image', 'price', 'maker', 'category1', 'category2']\n",
    "reviews_lists = []\n",
    "\n",
    "with open('C:/Users/TECH2_07/Final_Project/bert_project/main/API_KEY.txt', 'r') as key:\n",
    "    for line in key.readlines():\n",
    "        text = line.strip()\n",
    "        if text != '':\n",
    "            keys.append(text.split(':')[1])\n",
    "\n",
    "headers = {\n",
    "    'X-Naver-Client-Id' : keys[0],\n",
    "    'X-Naver-Client-Secret' : keys[1],\n",
    "}\n",
    "\n",
    "url = f'https://openapi.naver.com/v1/search/shop?&query={keyword}'\n",
    "time.sleep(5.5)\n",
    "text = requests.get(url, headers=headers)\n",
    "# driver = webdriver.Chrome()\n",
    "line = text.json()\n",
    "\n",
    "reviews = []\n",
    "\n",
    "\n",
    "for item in line['items']:\n",
    "    page_no = 1\n",
    "    \n",
    "    time.sleep(7.7)\n",
    "#     item_list.append([item['title'], item['link'], item['image'], item['lprice'], item['maker'], item['category3'], item['category4']])    \n",
    "    data = requests.get(item['link'])\n",
    "    soup = BeautifulSoup(data.text)\n",
    "    \n",
    "    text = soup.select_one('#wrap > div.product_bridge_product__n_89z > a:nth-child(5)')\n",
    "    time.sleep(5.5)\n",
    "    \n",
    "    driver = webdriver.Chrome()\n",
    "    driver.get('https://search.shopping.naver.com/catalog/21225654919?NaPm=ct%3Dlgu6spo0%7Cci%3D003949e55b1d3ab8955a8d80f2e6c80d637d8cd4%7Ctr%3Dslsl%7Csn%3D95694%7Chk%3Db4650dcdee991cb7ccbda4393e2a2097dd2d16c9')\n",
    "    time.sleep(3)\n",
    "    \n",
    "    page_no = 1\n",
    "    \n",
    "    for _ in range(5):\n",
    "        if page_no == 11:\n",
    "            driver.find_element(By.CSS_SELECTOR, '#section_review > div.pagination_pagination__JW7zT > a.pagination_next__3_3ip').click()\n",
    "            page_no = 2\n",
    "            \n",
    "        time.sleep(3.8)\n",
    "        driver.find_element('xpath', f'//*[@id=\"section_review\"]/div[3]/a[{page_no}]').click()\n",
    "        \n",
    "        time.sleep(4.8)\n",
    "        response = driver.find_elements('xpath', '//*[@id=\"section_review\"]/ul/li/div[2]/div[1]/p')\n",
    "        \n",
    "        for review in response:\n",
    "            reviews.append(review.text)\n",
    "        \n",
    "        page_no += 1\n",
    "    break\n"
   ]
  },
  {
   "cell_type": "code",
   "execution_count": null,
   "id": "af74ba60",
   "metadata": {
    "scrolled": true
   },
   "outputs": [],
   "source": [
    "df = pd.DataFrame(reviews, columns=['comments'])\n",
    "df\n",
    "\n",
    "pd.to"
   ]
  },
  {
   "cell_type": "code",
   "execution_count": null,
   "id": "dabccc7f",
   "metadata": {},
   "outputs": [],
   "source": [
    "from sklearn.feature_extraction.text import CountVectorizer\n",
    "from \n",
    "\n",
    "\n",
    "def tokenize_and_stemming(sentence, tokenizer):\n",
    "    sentence = re.sub(\"[^\\s0-9a-zA-Zㄱ-ㅎㅏ-ㅣ가-힣]\", \"\", sentence) \n",
    "    raw_pos_tagged = tokenizer.pos(sentence, stem=True) # POS Tagging with stemming\n",
    "    sentence_tokenized = []\n",
    "    for token, pos in raw_pos_tagged:\n",
    "        if (len(token) != 1) & (pos in [\"Noun\", \"VerbPrefix\", \"Verb\", \"Adverb\", \"Adjective\", \"Conjunction\", \"KoreanParticle\"]):\n",
    "            sentence_tokenized.append(token)  \n",
    "    return sentence_tokenized\n",
    "\n",
    "\n",
    "tokens = tokenize_and_stemming(df)\n",
    "\n",
    "df['comments'].apply(tokenize_and_stemming)\n",
    "\n",
    "\n",
    "vector = CountVectorizer()\n",
    "\n",
    "# 코퍼스로부터 각 단어의 빈도수를 기록\n",
    "print(vector.fit_transform(tokens).toarray())\n",
    "\n"
   ]
  },
  {
   "cell_type": "code",
   "execution_count": null,
   "id": "6dac7cbe",
   "metadata": {},
   "outputs": [],
   "source": [
    "\n",
    "wc = WordCloud(font_path=font_path, background_color='white', stopwords=['개소리', '존나', '개', '진짜', '정신'], mask=youtube_mask,\n",
    "           max_font_size=30, scale=7, colormap=color[count]).generate(string)\n",
    "plt.figure(figsize=(10, 5))\n",
    "# wc.recolor(color_func=make_colors, random_state=True)\n",
    "plt.axis('off')\n",
    "plt.imshow(wc, interpolation='bilinear')\n",
    "plt.show()\n",
    "del string\n",
    "wc.to_file(filename=f\"침착맨_{video_on_comments_like_sum[count]}.png\")\n",
    "count += 1\n"
   ]
  }
 ],
 "metadata": {
  "kernelspec": {
   "display_name": "Python 3",
   "language": "python",
   "name": "python3"
  },
  "language_info": {
   "codemirror_mode": {
    "name": "ipython",
    "version": 3
   },
   "file_extension": ".py",
   "mimetype": "text/x-python",
   "name": "python",
   "nbconvert_exporter": "python",
   "pygments_lexer": "ipython3",
   "version": "3.8.8"
  }
 },
 "nbformat": 4,
 "nbformat_minor": 5
}
