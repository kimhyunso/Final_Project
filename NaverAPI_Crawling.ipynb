{
 "cells": [
  {
   "cell_type": "code",
   "execution_count": 1,
   "id": "bf8ea1b1",
   "metadata": {},
   "outputs": [],
   "source": [
    "import urllib.request\n",
    "import requests\n",
    "\n",
    "query = '세탁기'\n",
    "keys = []\n",
    "\n",
    "with open('API_KEY.txt', 'r') as key:\n",
    "    for line in key.readlines():\n",
    "        text = line.strip()\n",
    "        if text != '':\n",
    "            keys.append(text.split(':')[1])\n",
    "\n",
    "headers = {\n",
    "    'X-Naver-Client-Id' : keys[0],\n",
    "    'X-Naver-Client-Secret' : keys[1],\n",
    "}\n",
    "            \n",
    "url = f'https://openapi.naver.com/v1/search/shop?&query={query}'\n",
    "text = requests.get(url, headers=headers)\n",
    "line = text.json()"
   ]
  },
  {
   "cell_type": "code",
   "execution_count": 2,
   "id": "d7888dce",
   "metadata": {},
   "outputs": [
    {
     "name": "stdout",
     "output_type": "stream",
     "text": [
      "https://search.shopping.naver.com/gate.nhn?id=21225654919\n",
      "https://search.shopping.naver.com/gate.nhn?id=16567044284\n",
      "https://search.shopping.naver.com/gate.nhn?id=16027057006\n",
      "https://search.shopping.naver.com/gate.nhn?id=26854021527\n",
      "https://search.shopping.naver.com/gate.nhn?id=21126513760\n",
      "https://search.shopping.naver.com/gate.nhn?id=23034941490\n",
      "https://search.shopping.naver.com/gate.nhn?id=23057107491\n",
      "https://search.shopping.naver.com/gate.nhn?id=25661530523\n",
      "https://search.shopping.naver.com/gate.nhn?id=23760142490\n",
      "https://search.shopping.naver.com/gate.nhn?id=24567866524\n"
     ]
    }
   ],
   "source": [
    "from bs4 import BeautifulSoup\n",
    "from selenium.webdriver.common.by import By\n",
    "\n",
    "for i in line['items']:\n",
    "    data = requests.get(i['link'])\n",
    "    print(i['link'])\n",
    "#     soup = BeautifulSoup(data.text)\n",
    "#     x_path = ''\n",
    "    \n",
    "#     soup.find_element_by_xpath()\n",
    "#     div = soup.select_one('div.list_basis')\n",
    "#     a = div.select('a.basicList_etc__LSkN_')\n",
    "    \n",
    "    \n",
    "    "
   ]
  },
  {
   "cell_type": "code",
   "execution_count": null,
   "id": "04520436",
   "metadata": {},
   "outputs": [],
   "source": [
    "# 네이버 검색 사이트\n",
    "import webbrowser\n",
    "import requests\n",
    "from bs4 import BeautifulSoup\n",
    "from selenium.webdriver.common.by import By\n",
    "\n",
    "# naver_search = 'https://search.naver.com/search.naver?query='\n",
    "# search_word = '고양이'\n",
    "\n",
    "\n",
    "\n",
    "params = {\n",
    "    'query' : '세탁기',\n",
    "    'sort' : 'timestamp',\n",
    "}\n",
    "\n",
    "\n",
    "url = 'https://search.shopping.naver.com/search/all'\n",
    "\n",
    "data = requests.get(url, params=params)\n",
    "\n",
    "soup = BeautifulSoup(data.text)\n",
    "div = soup.select_one('div.list_basis')\n",
    "a = div.select('a.basicList_etc__LSkN_')\n",
    "\n",
    "for i in a:\n",
    "    print(i)\n",
    "        "
   ]
  },
  {
   "cell_type": "code",
   "execution_count": null,
   "id": "d81c510c",
   "metadata": {
    "scrolled": true
   },
   "outputs": [],
   "source": [
    "import webbrowser\n",
    "\n",
    "url = 'https://shopping.naver.com/home'\n",
    "webbrowser.open(url)"
   ]
  },
  {
   "cell_type": "code",
   "execution_count": null,
   "id": "2b8bef87",
   "metadata": {},
   "outputs": [],
   "source": [
    "# 단일 크롤링\n",
    "import time\n",
    "\n",
    "\n",
    "driver = webdriver.Chrome()\n",
    "driver.get(\"https://www.google.co.kr/imghp?hl=ko&ogbl\") # 이미지 사이트를 한 번에 접속\n",
    "# assert \"Python\" in driver.title\n",
    "\n",
    "elem = driver.find_element(By.NAME, 'q')\n",
    "elem.clear()\n",
    "elem.send_keys(\"해리포터\") # 검색어를 확인\n",
    "elem.send_keys(Keys.RETURN) # enter 키를 친다\n",
    "\n",
    "\n",
    "driver.find_elements(By.CSS_SELECTOR, '.rg_i.Q4LuWd')[0].click() # 큰 그림을 클릭\n",
    "time.sleep(3)\n",
    "src = driver.find_element(By.CSS_SELECTOR, '.n3VNCb').get_attribute('src') # src 주소를 가져와야한다.\n",
    "\n",
    "# 이미지 다운로드\n",
    "u.request.urlretrieve(src, 'test.png')\n",
    "\n",
    "\n",
    "\n",
    "# n3VNCb KAlRDb\n",
    "\n",
    "\n",
    "\n",
    "# https://upload.wikimedia.org/wikipedia/ko/d/dd/%ED%95%B4%EB%A6%AC_%ED%8F%AC%ED%84%B0%EC%99%80_%EB%A7%88%EB%B2%95%EC%82%AC%EC%9D%98_%EB%8F%8C_%EC%98%81%ED%99%94.jpg\n",
    "\n",
    "# assert \"No results found.\" not in driver.page_source\n",
    "# driver.close()"
   ]
  },
  {
   "cell_type": "code",
   "execution_count": null,
   "id": "dabccc7f",
   "metadata": {},
   "outputs": [],
   "source": []
  }
 ],
 "metadata": {
  "kernelspec": {
   "display_name": "Python 3",
   "language": "python",
   "name": "python3"
  },
  "language_info": {
   "codemirror_mode": {
    "name": "ipython",
    "version": 3
   },
   "file_extension": ".py",
   "mimetype": "text/x-python",
   "name": "python",
   "nbconvert_exporter": "python",
   "pygments_lexer": "ipython3",
   "version": "3.8.8"
  }
 },
 "nbformat": 4,
 "nbformat_minor": 5
}
