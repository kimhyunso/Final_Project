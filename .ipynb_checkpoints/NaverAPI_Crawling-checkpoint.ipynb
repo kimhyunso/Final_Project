{
 "cells": [
  {
   "cell_type": "code",
   "execution_count": 3,
   "id": "bf8ea1b1",
   "metadata": {},
   "outputs": [
    {
     "ename": "NoSuchElementException",
     "evalue": "Message: no such element: Unable to locate element: {\"method\":\"xpath\",\"selector\":\"//*[@id=\"section_review\"]/div[3]/a[13]\"}\n  (Session info: chrome=112.0.5615.137)\n",
     "output_type": "error",
     "traceback": [
      "\u001b[1;31m---------------------------------------------------------------------------\u001b[0m",
      "\u001b[1;31mNoSuchElementException\u001b[0m                    Traceback (most recent call last)",
      "Cell \u001b[1;32mIn[3], line 45\u001b[0m\n\u001b[0;32m     43\u001b[0m driver\u001b[38;5;241m.\u001b[39mget(text\u001b[38;5;241m.\u001b[39mattrs[\u001b[38;5;124m'\u001b[39m\u001b[38;5;124mhref\u001b[39m\u001b[38;5;124m'\u001b[39m])\n\u001b[0;32m     44\u001b[0m \u001b[38;5;28;01mwhile\u001b[39;00m \u001b[38;5;28;01mTrue\u001b[39;00m:\n\u001b[1;32m---> 45\u001b[0m     \u001b[43mdriver\u001b[49m\u001b[38;5;241;43m.\u001b[39;49m\u001b[43mfind_element_by_xpath\u001b[49m\u001b[43m(\u001b[49m\u001b[38;5;124;43mf\u001b[39;49m\u001b[38;5;124;43m'\u001b[39;49m\u001b[38;5;124;43m//*[@id=\u001b[39;49m\u001b[38;5;124;43m\"\u001b[39;49m\u001b[38;5;124;43msection_review\u001b[39;49m\u001b[38;5;124;43m\"\u001b[39;49m\u001b[38;5;124;43m]/div[3]/a[\u001b[39;49m\u001b[38;5;132;43;01m{\u001b[39;49;00m\u001b[43mpage_no\u001b[49m\u001b[38;5;132;43;01m}\u001b[39;49;00m\u001b[38;5;124;43m]\u001b[39;49m\u001b[38;5;124;43m'\u001b[39;49m\u001b[43m)\u001b[49m\u001b[38;5;241m.\u001b[39mclick()\n\u001b[0;32m     46\u001b[0m     time\u001b[38;5;241m.\u001b[39msleep(\u001b[38;5;241m8\u001b[39m)\n\u001b[0;32m     47\u001b[0m     reviews \u001b[38;5;241m=\u001b[39m driver\u001b[38;5;241m.\u001b[39mfind_elements(\u001b[38;5;124m'\u001b[39m\u001b[38;5;124mxpath\u001b[39m\u001b[38;5;124m'\u001b[39m, \u001b[38;5;124m'\u001b[39m\u001b[38;5;124m//*[@id=\u001b[39m\u001b[38;5;124m\"\u001b[39m\u001b[38;5;124msection_review\u001b[39m\u001b[38;5;124m\"\u001b[39m\u001b[38;5;124m]/ul/li/div[2]\u001b[39m\u001b[38;5;124m'\u001b[39m)\n",
      "File \u001b[1;32mc:\\programdata\\anaconda3\\lib\\site-packages\\selenium\\webdriver\\remote\\webdriver.py:394\u001b[0m, in \u001b[0;36mWebDriver.find_element_by_xpath\u001b[1;34m(self, xpath)\u001b[0m\n\u001b[0;32m    378\u001b[0m \u001b[38;5;28;01mdef\u001b[39;00m \u001b[38;5;21mfind_element_by_xpath\u001b[39m(\u001b[38;5;28mself\u001b[39m, xpath):\n\u001b[0;32m    379\u001b[0m \u001b[38;5;250m    \u001b[39m\u001b[38;5;124;03m\"\"\"\u001b[39;00m\n\u001b[0;32m    380\u001b[0m \u001b[38;5;124;03m    Finds an element by xpath.\u001b[39;00m\n\u001b[0;32m    381\u001b[0m \n\u001b[1;32m   (...)\u001b[0m\n\u001b[0;32m    392\u001b[0m \u001b[38;5;124;03m        element = driver.find_element_by_xpath('//div/td[1]')\u001b[39;00m\n\u001b[0;32m    393\u001b[0m \u001b[38;5;124;03m    \"\"\"\u001b[39;00m\n\u001b[1;32m--> 394\u001b[0m     \u001b[38;5;28;01mreturn\u001b[39;00m \u001b[38;5;28;43mself\u001b[39;49m\u001b[38;5;241;43m.\u001b[39;49m\u001b[43mfind_element\u001b[49m\u001b[43m(\u001b[49m\u001b[43mby\u001b[49m\u001b[38;5;241;43m=\u001b[39;49m\u001b[43mBy\u001b[49m\u001b[38;5;241;43m.\u001b[39;49m\u001b[43mXPATH\u001b[49m\u001b[43m,\u001b[49m\u001b[43m \u001b[49m\u001b[43mvalue\u001b[49m\u001b[38;5;241;43m=\u001b[39;49m\u001b[43mxpath\u001b[49m\u001b[43m)\u001b[49m\n",
      "File \u001b[1;32mc:\\programdata\\anaconda3\\lib\\site-packages\\selenium\\webdriver\\remote\\webdriver.py:976\u001b[0m, in \u001b[0;36mWebDriver.find_element\u001b[1;34m(self, by, value)\u001b[0m\n\u001b[0;32m    974\u001b[0m         by \u001b[38;5;241m=\u001b[39m By\u001b[38;5;241m.\u001b[39mCSS_SELECTOR\n\u001b[0;32m    975\u001b[0m         value \u001b[38;5;241m=\u001b[39m \u001b[38;5;124m'\u001b[39m\u001b[38;5;124m[name=\u001b[39m\u001b[38;5;124m\"\u001b[39m\u001b[38;5;132;01m%s\u001b[39;00m\u001b[38;5;124m\"\u001b[39m\u001b[38;5;124m]\u001b[39m\u001b[38;5;124m'\u001b[39m \u001b[38;5;241m%\u001b[39m value\n\u001b[1;32m--> 976\u001b[0m \u001b[38;5;28;01mreturn\u001b[39;00m \u001b[38;5;28;43mself\u001b[39;49m\u001b[38;5;241;43m.\u001b[39;49m\u001b[43mexecute\u001b[49m\u001b[43m(\u001b[49m\u001b[43mCommand\u001b[49m\u001b[38;5;241;43m.\u001b[39;49m\u001b[43mFIND_ELEMENT\u001b[49m\u001b[43m,\u001b[49m\u001b[43m \u001b[49m\u001b[43m{\u001b[49m\n\u001b[0;32m    977\u001b[0m \u001b[43m    \u001b[49m\u001b[38;5;124;43m'\u001b[39;49m\u001b[38;5;124;43musing\u001b[39;49m\u001b[38;5;124;43m'\u001b[39;49m\u001b[43m:\u001b[49m\u001b[43m \u001b[49m\u001b[43mby\u001b[49m\u001b[43m,\u001b[49m\n\u001b[0;32m    978\u001b[0m \u001b[43m    \u001b[49m\u001b[38;5;124;43m'\u001b[39;49m\u001b[38;5;124;43mvalue\u001b[39;49m\u001b[38;5;124;43m'\u001b[39;49m\u001b[43m:\u001b[49m\u001b[43m \u001b[49m\u001b[43mvalue\u001b[49m\u001b[43m}\u001b[49m\u001b[43m)\u001b[49m[\u001b[38;5;124m'\u001b[39m\u001b[38;5;124mvalue\u001b[39m\u001b[38;5;124m'\u001b[39m]\n",
      "File \u001b[1;32mc:\\programdata\\anaconda3\\lib\\site-packages\\selenium\\webdriver\\remote\\webdriver.py:321\u001b[0m, in \u001b[0;36mWebDriver.execute\u001b[1;34m(self, driver_command, params)\u001b[0m\n\u001b[0;32m    319\u001b[0m response \u001b[38;5;241m=\u001b[39m \u001b[38;5;28mself\u001b[39m\u001b[38;5;241m.\u001b[39mcommand_executor\u001b[38;5;241m.\u001b[39mexecute(driver_command, params)\n\u001b[0;32m    320\u001b[0m \u001b[38;5;28;01mif\u001b[39;00m response:\n\u001b[1;32m--> 321\u001b[0m     \u001b[38;5;28;43mself\u001b[39;49m\u001b[38;5;241;43m.\u001b[39;49m\u001b[43merror_handler\u001b[49m\u001b[38;5;241;43m.\u001b[39;49m\u001b[43mcheck_response\u001b[49m\u001b[43m(\u001b[49m\u001b[43mresponse\u001b[49m\u001b[43m)\u001b[49m\n\u001b[0;32m    322\u001b[0m     response[\u001b[38;5;124m'\u001b[39m\u001b[38;5;124mvalue\u001b[39m\u001b[38;5;124m'\u001b[39m] \u001b[38;5;241m=\u001b[39m \u001b[38;5;28mself\u001b[39m\u001b[38;5;241m.\u001b[39m_unwrap_value(\n\u001b[0;32m    323\u001b[0m         response\u001b[38;5;241m.\u001b[39mget(\u001b[38;5;124m'\u001b[39m\u001b[38;5;124mvalue\u001b[39m\u001b[38;5;124m'\u001b[39m, \u001b[38;5;28;01mNone\u001b[39;00m))\n\u001b[0;32m    324\u001b[0m     \u001b[38;5;28;01mreturn\u001b[39;00m response\n",
      "File \u001b[1;32mc:\\programdata\\anaconda3\\lib\\site-packages\\selenium\\webdriver\\remote\\errorhandler.py:242\u001b[0m, in \u001b[0;36mErrorHandler.check_response\u001b[1;34m(self, response)\u001b[0m\n\u001b[0;32m    240\u001b[0m         alert_text \u001b[38;5;241m=\u001b[39m value[\u001b[38;5;124m'\u001b[39m\u001b[38;5;124malert\u001b[39m\u001b[38;5;124m'\u001b[39m]\u001b[38;5;241m.\u001b[39mget(\u001b[38;5;124m'\u001b[39m\u001b[38;5;124mtext\u001b[39m\u001b[38;5;124m'\u001b[39m)\n\u001b[0;32m    241\u001b[0m     \u001b[38;5;28;01mraise\u001b[39;00m exception_class(message, screen, stacktrace, alert_text)\n\u001b[1;32m--> 242\u001b[0m \u001b[38;5;28;01mraise\u001b[39;00m exception_class(message, screen, stacktrace)\n",
      "\u001b[1;31mNoSuchElementException\u001b[0m: Message: no such element: Unable to locate element: {\"method\":\"xpath\",\"selector\":\"//*[@id=\"section_review\"]/div[3]/a[13]\"}\n  (Session info: chrome=112.0.5615.137)\n"
     ]
    }
   ],
   "source": [
    "import requests\n",
    "import time\n",
    "import numpy as np\n",
    "import pandas as pd\n",
    "from bs4 import BeautifulSoup\n",
    "from selenium import webdriver\n",
    "import re\n",
    "import time\n",
    "\n",
    "keyword = '세탁기'\n",
    "keys = []\n",
    "page_no = 1\n",
    "columns = ['title', 'link', 'image', 'price', 'maker', 'category1', 'category2']\n",
    "reviews_lists = []\n",
    "\n",
    "with open('API_KEY.txt', 'r') as key:\n",
    "    for line in key.readlines():\n",
    "        text = line.strip()\n",
    "        if text != '':\n",
    "            keys.append(text.split(':')[1])\n",
    "\n",
    "headers = {\n",
    "    'X-Naver-Client-Id' : keys[0],\n",
    "    'X-Naver-Client-Secret' : keys[1],\n",
    "}\n",
    "url = f'https://openapi.naver.com/v1/search/shop?&query={keyword}'\n",
    "time.sleep(5.5)\n",
    "text = requests.get(url, headers=headers)\n",
    "# driver = webdriver.Chrome()\n",
    "line = text.json()\n",
    "\n",
    "\n",
    "for item in line['items']:\n",
    "\n",
    "    time.sleep(7.7)\n",
    "#     item_list.append([item['title'], item['link'], item['image'], item['lprice'], item['maker'], item['category3'], item['category4']])    \n",
    "    data = requests.get(item['link'])\n",
    "    soup = BeautifulSoup(data.text)\n",
    "    \n",
    "    text = soup.select_one('#wrap > div.product_bridge_product__n_89z > a:nth-child(5)')\n",
    "    time.sleep(5.5)\n",
    "    driver = webdriver.Chrome()\n",
    "    driver.get(text.attrs['href'])\n",
    "    while True:\n",
    "        driver.find_element_by_xpath(f'//*[@id=\"section_review\"]/div[3]/a[{page_no}]').click()\n",
    "        time.sleep(8)\n",
    "        reviews = driver.find_elements('xpath', '//*[@id=\"section_review\"]/ul/li/div[2]')\n",
    "        time.sleep(5.5)\n",
    "        for review in reviews:\n",
    "            reviews_lists.append(review.text)\n",
    "        \n",
    "        page_no+= 1\n",
    "    \n",
    "    break\n",
    "    \n",
    "    \n",
    "    \n",
    "#     review = requests.get(text.attrs['href'])\n",
    "    \n",
    "#     soup = BeautifulSoup(review.text)\n",
    "#     reviews = soup.select('#section_review > ul li > div.reviewItems_review__DqLYb > div.reviewItems_review_text__dq0kE > p')\n",
    "#     for review in reviews:\n",
    "#         reviews_lists.append(review.get_text())\n",
    "#     break\n"
   ]
  },
  {
   "cell_type": "code",
   "execution_count": 2,
   "id": "fe6ac419",
   "metadata": {
    "scrolled": true
   },
   "outputs": [
    {
     "data": {
      "text/html": [
       "<div>\n",
       "<style scoped>\n",
       "    .dataframe tbody tr th:only-of-type {\n",
       "        vertical-align: middle;\n",
       "    }\n",
       "\n",
       "    .dataframe tbody tr th {\n",
       "        vertical-align: top;\n",
       "    }\n",
       "\n",
       "    .dataframe thead th {\n",
       "        text-align: right;\n",
       "    }\n",
       "</style>\n",
       "<table border=\"1\" class=\"dataframe\">\n",
       "  <thead>\n",
       "    <tr style=\"text-align: right;\">\n",
       "      <th></th>\n",
       "      <th>0</th>\n",
       "    </tr>\n",
       "  </thead>\n",
       "  <tbody>\n",
       "    <tr>\n",
       "      <th>0</th>\n",
       "      <td>평점5하이마트쇼핑몰y*a*****22.07.31.\\n예전 엘지세탁기 15 년간 써다...</td>\n",
       "    </tr>\n",
       "    <tr>\n",
       "      <th>1</th>\n",
       "      <td>평점4sky_****20.12.29.배송지역: 서울\\n일단 설치기사님 너무 친절하셔...</td>\n",
       "    </tr>\n",
       "    <tr>\n",
       "      <th>2</th>\n",
       "      <td>평점5하이마트쇼핑몰i*9*****22.08.14.\\n이전 사용 세탁기는 뒤판에 접지...</td>\n",
       "    </tr>\n",
       "    <tr>\n",
       "      <th>3</th>\n",
       "      <td>평점5LG전자인증점 더베스트지성sing****22.08.18.\\n일단 소음도 적고 ...</td>\n",
       "    </tr>\n",
       "    <tr>\n",
       "      <th>4</th>\n",
       "      <td>평점5하이마트쇼핑몰j*a*****22.07.12.\\n23년썼던 세탁기를 보내고 저렴...</td>\n",
       "    </tr>\n",
       "    <tr>\n",
       "      <th>...</th>\n",
       "      <td>...</td>\n",
       "    </tr>\n",
       "    <tr>\n",
       "      <th>235</th>\n",
       "      <td>평점4G마켓m*k*****23.02.16.단일상품;단품[1개]\\n세탁기\\n사용은아직...</td>\n",
       "    </tr>\n",
       "    <tr>\n",
       "      <th>236</th>\n",
       "      <td>평점5seok****21.02.25.설치유형: 원룸 빌라 오피스텔 주택 상가설치\\n...</td>\n",
       "    </tr>\n",
       "    <tr>\n",
       "      <th>237</th>\n",
       "      <td>평점5주식회사 어퍼choa****23.04.12.배송지역: 그외지역\\n좋은제품 잘 ...</td>\n",
       "    </tr>\n",
       "    <tr>\n",
       "      <th>238</th>\n",
       "      <td>평점5E-랜드몰dldn****21.01.13.설치유형: 아파트 내 설치\\n소음적고 ...</td>\n",
       "    </tr>\n",
       "    <tr>\n",
       "      <th>239</th>\n",
       "      <td>평점4rio8****21.05.21.설치유형: 아파트설치\\n가성비 좋네요. 조용하다...</td>\n",
       "    </tr>\n",
       "  </tbody>\n",
       "</table>\n",
       "<p>240 rows × 1 columns</p>\n",
       "</div>"
      ],
      "text/plain": [
       "                                                     0\n",
       "0    평점5하이마트쇼핑몰y*a*****22.07.31.\\n예전 엘지세탁기 15 년간 써다...\n",
       "1    평점4sky_****20.12.29.배송지역: 서울\\n일단 설치기사님 너무 친절하셔...\n",
       "2    평점5하이마트쇼핑몰i*9*****22.08.14.\\n이전 사용 세탁기는 뒤판에 접지...\n",
       "3    평점5LG전자인증점 더베스트지성sing****22.08.18.\\n일단 소음도 적고 ...\n",
       "4    평점5하이마트쇼핑몰j*a*****22.07.12.\\n23년썼던 세탁기를 보내고 저렴...\n",
       "..                                                 ...\n",
       "235  평점4G마켓m*k*****23.02.16.단일상품;단품[1개]\\n세탁기\\n사용은아직...\n",
       "236  평점5seok****21.02.25.설치유형: 원룸 빌라 오피스텔 주택 상가설치\\n...\n",
       "237  평점5주식회사 어퍼choa****23.04.12.배송지역: 그외지역\\n좋은제품 잘 ...\n",
       "238  평점5E-랜드몰dldn****21.01.13.설치유형: 아파트 내 설치\\n소음적고 ...\n",
       "239  평점4rio8****21.05.21.설치유형: 아파트설치\\n가성비 좋네요. 조용하다...\n",
       "\n",
       "[240 rows x 1 columns]"
      ]
     },
     "execution_count": 2,
     "metadata": {},
     "output_type": "execute_result"
    }
   ],
   "source": [
    "df = pd.DataFrame(reviews_lists)\n",
    "df"
   ]
  },
  {
   "cell_type": "code",
   "execution_count": null,
   "id": "af74ba60",
   "metadata": {
    "scrolled": true
   },
   "outputs": [],
   "source": [
    "reviews[1].get_text()"
   ]
  },
  {
   "cell_type": "code",
   "execution_count": null,
   "id": "dabccc7f",
   "metadata": {},
   "outputs": [],
   "source": [
    "def tokenize_and_stemming(sentence, tokenizer):\n",
    "    sentence = re.sub(\"[^\\s0-9a-zA-Zㄱ-ㅎㅏ-ㅣ가-힣]\", \"\", sentence) \n",
    "    raw_pos_tagged = tokenizer.pos(sentence, stem=True) # POS Tagging with stemming\n",
    "    sentence_tokenized = []\n",
    "    for token, pos in raw_pos_tagged:\n",
    "        if (len(token) != 1) & (pos in [\"Noun\", \"VerbPrefix\", \"Verb\", \"Adverb\", \"Adjective\", \"Conjunction\", \"KoreanParticle\"]):\n",
    "            sentence_tokenized.append(token)  \n",
    "    return sentence_tokenized\n"
   ]
  },
  {
   "cell_type": "code",
   "execution_count": null,
   "id": "6dac7cbe",
   "metadata": {},
   "outputs": [],
   "source": [
    " \n"
   ]
  },
  {
   "cell_type": "code",
   "execution_count": null,
   "id": "9a04cd77",
   "metadata": {},
   "outputs": [],
   "source": [
    "from selenium import webdriver\n",
    "import time\n",
    " \n",
    "browser = webdriver.Firefox()\n",
    "browser.get(\"http://python.org\")\n",
    " \n",
    "menus = browser.find_elements_by_css_selector('#top ul.menu li')\n",
    " \n",
    "pypi = None\n",
    "for m in menus:\n",
    "    if m.text == \"PyPI\":\n",
    "        pypi = m\n",
    "    print(m.text)\n",
    " \n",
    "pypi.click()  # 클릭\n",
    " \n",
    "time.sleep(5) # 5초 대기\n",
    "browser.quit() # 브라우저 종료"
   ]
  }
 ],
 "metadata": {
  "kernelspec": {
   "display_name": "Python 3 (ipykernel)",
   "language": "python",
   "name": "python3"
  },
  "language_info": {
   "codemirror_mode": {
    "name": "ipython",
    "version": 3
   },
   "file_extension": ".py",
   "mimetype": "text/x-python",
   "name": "python",
   "nbconvert_exporter": "python",
   "pygments_lexer": "ipython3",
   "version": "3.8.8"
  }
 },
 "nbformat": 4,
 "nbformat_minor": 5
}
